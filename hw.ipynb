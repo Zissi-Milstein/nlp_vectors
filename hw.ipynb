{
 "cells": [
  {
   "cell_type": "code",
   "execution_count": null,
   "metadata": {},
   "outputs": [],
   "source": [
    "!pip install nltk\n",
    "\n",
    "# install any other additional required libraries here"
   ]
  },
  {
   "cell_type": "code",
   "execution_count": null,
   "metadata": {},
   "outputs": [],
   "source": [
    "from  vectors import *"
   ]
  },
  {
   "cell_type": "markdown",
   "metadata": {},
   "source": [
    "PART I"
   ]
  },
  {
   "cell_type": "code",
   "execution_count": null,
   "metadata": {},
   "outputs": [],
   "source": [
    "# A) Code goes here:\n",
    "\n",
    "# pick a word in the English language (included in `words.txt`) and compute the distance between 3 other words of your choice\n",
    "# show the initial word, each of the 3 words, and their output distances\n",
    "\n",
    "initial_word = words[\"book\"]\n",
    "word1 = words[\"novel\"]\n",
    "word2 = words[\"breakfast\"]\n",
    "word3 = words[\"lunch\"]\n",
    "\n",
    "distance1 = distance(initial_word, word1)\n",
    "distance2 = distance(initial_word, word2)\n",
    "distance3 = distance(initial_word, word3)\n",
    "\n",
    "print(f\"Distance between 'book' and 'novel': {distance1}\")\n",
    "print(f\"Distance between 'book' and 'breakfast': {distance2}\")\n",
    "print(f\"Distance between 'book' and 'lunch': {distance3}\")"
   ]
  },
  {
   "cell_type": "markdown",
   "metadata": {},
   "source": [
    "# B) Discuss how the resulting distances do or don't follow human intuition. ",
    "\n",
    "The distances between 'book' and the three chosen words show varying degrees of similarity.",
    "The distance between 'book' and 'novel' is the smallest, which aligns with human intuition as both are closely related in terms of literature.",
    "The distance between 'book' and 'breakfast' is much larger, indicating less similarity, which also follows human intuition as they are unrelated concepts.",
    "The distance between 'book' and 'lunch' is slightly smaller than that with 'breakfast', but still quite large, again following the intuition that they are different categories of items."
   ]
  },
  {
   "cell_type": "markdown",
   "metadata": {},
   "source": [
    "PART II"
   ]
  },
  {
   "cell_type": "code",
   "execution_count": null,
   "metadata": {},
   "outputs": [],
   "source": [
    "# A) Code goes here: \n",
    "\n",
    "# use the \"closest_word\" method to uncover latent relationships between words\n",
    "# write one line of code that demonstrates human intuition about word similarity\n",
    "# refer to the README file for examples from class - do not use examples that we already covered\n",
    "\n",
    "# B) Explain your choice of words here - discuss your human intution and how it is validated with the results of running your code above."
   ]
  }
 ],
 "metadata": {
  "kernelspec": {
   "display_name": "Python 3",
   "language": "python",
   "name": "python3"
  },
  "language_info": {
   "codemirror_mode": {
    "name": "ipython",
    "version": 3
   },
   "file_extension": ".py",
   "mimetype": "text/x-python",
   "name": "python",
   "nbconvert_exporter": "python",
   "pygments_lexer": "ipython3",
   "version": "3.10.10"
  }
 },
 "nbformat": 4,
 "nbformat_minor": 2
}
