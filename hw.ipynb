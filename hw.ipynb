{
  "cells": [
    {
      "cell_type": "code",
      "execution_count": 25,
      "metadata": {
        "colab": {
          "base_uri": "https://localhost:8080/"
        },
        "id": "1RK5larIt0nI",
        "outputId": "df81133f-4e16-4358-fe97-a8f24b842680"
      },
      "outputs": [
        {
          "output_type": "stream",
          "name": "stdout",
          "text": [
            "Requirement already satisfied: nltk in /usr/local/lib/python3.10/dist-packages (3.8.1)\n",
            "Requirement already satisfied: click in /usr/local/lib/python3.10/dist-packages (from nltk) (8.1.7)\n",
            "Requirement already satisfied: joblib in /usr/local/lib/python3.10/dist-packages (from nltk) (1.4.2)\n",
            "Requirement already satisfied: regex>=2021.8.3 in /usr/local/lib/python3.10/dist-packages (from nltk) (2024.5.15)\n",
            "Requirement already satisfied: tqdm in /usr/local/lib/python3.10/dist-packages (from nltk) (4.66.4)\n"
          ]
        }
      ],
      "source": [
        "!pip install nltk\n",
        "\n",
        "# install any other additional required libraries here"
      ]
    },
    {
      "cell_type": "code",
      "execution_count": 26,
      "metadata": {
        "id": "NiS6YIWft0nJ"
      },
      "outputs": [],
      "source": [
        "from  vectors import *"
      ]
    },
    {
      "cell_type": "markdown",
      "metadata": {
        "id": "WWd_2LW1t0nJ"
      },
      "source": [
        "PART I"
      ]
    },
    {
      "cell_type": "code",
      "execution_count": 27,
      "metadata": {
        "colab": {
          "base_uri": "https://localhost:8080/"
        },
        "id": "vHfL9Fnet0nK",
        "outputId": "307fc381-8832-4706-e34b-b5e13314f625"
      },
      "outputs": [
        {
          "output_type": "stream",
          "name": "stdout",
          "text": [
            "Distance between 'cat' and 'dog': 0.13833064354236546\n",
            "Distance between 'cat' and 'fish': 0.39639159217354636\n",
            "Distance between 'cat' and 'car': 0.5288427226756656\n"
          ]
        }
      ],
      "source": [
        "# A) Code goes here:\n",
        "\n",
        "# pick a word in the English language (included in `words.txt`) and compute the distance between 3 other words of your choice\n",
        "# show the initial word, each of the 3 words, and their output distances\n",
        "\n",
        "# Ensure the necessary libraries and files are installed and imported\n",
        "\n",
        "# Define the initial word and the words to compare\n",
        "initial_word = words[\"cat\"]\n",
        "word1 = words[\"dog\"]\n",
        "word2 = words[\"lion\"]\n",
        "word3 = words[\"car\"]\n",
        "\n",
        "# Compute the distances\n",
        "distance1 = distance(initial_word, word1)\n",
        "distance2 = distance(initial_word, word2)\n",
        "distance3 = distance(initial_word, word3)\n",
        "\n",
        "# Print the results\n",
        "print(f\"Distance between 'cat' and 'dog': {distance1}\")\n",
        "print(f\"Distance between 'cat' and 'lion': {distance2}\")\n",
        "print(f\"Distance between 'cat' and 'car': {distance3}\")\n",
        "\n",
        "\n",
        "\n",
        "# B) Discuss how the resulting distances do or don't follow human intuition.\n",
        "# cat and dog: These are quite similar, both are animals that can be domesticated and used as pets so it follows human intuition with a small distance between the two.\n",
        "# cat and lion: These were give a larger distance which I do not think follows human intuition since a lion is a type of cat.\n",
        "# I think the two should've been placed closer together.\n",
        "# cat and car: The large distance does make sense here since the only real simularity are the spelling of the words."
      ]
    },
    {
      "cell_type": "markdown",
      "metadata": {
        "id": "sP-WO_VEt0nL"
      },
      "source": [
        "PART II"
      ]
    },
    {
      "cell_type": "code",
      "execution_count": 24,
      "metadata": {
        "colab": {
          "base_uri": "https://localhost:8080/"
        },
        "id": "3F28h4urt0nL",
        "outputId": "f7eb26e1-3810-4913-cfa4-dadc95b56aab"
      },
      "outputs": [
        {
          "output_type": "stream",
          "name": "stdout",
          "text": [
            "The word closest to the concept of 'eye' - 'see' + 'hear' is: ear\n"
          ]
        }
      ],
      "source": [
        "# A) Code goes here:\n",
        "\n",
        "# use the \"closest_word\" method to uncover latent relationships between words\n",
        "# write one line of code that demonstrates human intuition about word similarity\n",
        "# refer to the README file for examples from class - do not use examples that we already covered\n",
        "\n",
        "# Example choice of words to uncover latent relationships\n",
        "latent_relationship = closest_word(words[\"eye\"] - words[\"see\"] + words[\"hear\"])\n",
        "print(f\"The word closest to the concept of 'eye' - 'see' + 'hear' is: {latent_relationship}\")\n",
        "\n",
        "\n",
        "# B) Explain your choice of words here - discuss your human intution and how it is validated with the results of running your code above.\n",
        "# An eye sees as an ear hears. The code was able to pick up and reflect this.\n",
        "# It did take me a while to find words that worked well here."
      ]
    }
  ],
  "metadata": {
    "kernelspec": {
      "display_name": "Python 3",
      "language": "python",
      "name": "python3"
    },
    "language_info": {
      "codemirror_mode": {
        "name": "ipython",
        "version": 3
      },
      "file_extension": ".py",
      "mimetype": "text/x-python",
      "name": "python",
      "nbconvert_exporter": "python",
      "pygments_lexer": "ipython3",
      "version": "3.10.10"
    },
    "colab": {
      "provenance": []
    }
  },
  "nbformat": 4,
  "nbformat_minor": 0
}